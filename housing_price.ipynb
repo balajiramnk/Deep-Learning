{
 "cells": [
  {
   "cell_type": "code",
   "execution_count": 1,
   "metadata": {},
   "outputs": [],
   "source": [
    "import numpy as np\n",
    "from matplotlib import pyplot as plt\n",
    "import csv"
   ]
  },
  {
   "cell_type": "code",
   "execution_count": 2,
   "metadata": {},
   "outputs": [],
   "source": [
    "with open('Chennai.csv', 'r') as file:\n",
    "    read = np.array(list(csv.reader(file)))"
   ]
  },
  {
   "cell_type": "code",
   "execution_count": 7,
   "metadata": {},
   "outputs": [],
   "source": [
    "trainx = np.array(read[1:4964, 1:]).T\n",
    "trainy = np.array(read[1:4964, 0]).reshape(-1, 1).T\n",
    "testx = np.array(read[4964:, 1:]).T\n",
    "testy = np.array(read[4964:, 0]).reshape(-1, 1).T"
   ]
  },
  {
   "cell_type": "code",
   "execution_count": 8,
   "metadata": {},
   "outputs": [
    {
     "name": "stdout",
     "output_type": "stream",
     "text": [
      "(39, 4963)\n",
      "(1, 4963)\n",
      "(39, 51)\n",
      "(1, 51)\n"
     ]
    }
   ],
   "source": [
    "print(trainx.shape)\n",
    "print(trainy.shape)\n",
    "print(testx.shape)\n",
    "print(testy.shape)"
   ]
  },
  {
   "cell_type": "code",
   "execution_count": 14,
   "metadata": {},
   "outputs": [],
   "source": [
    "def error_check(x, y, w, b):\n",
    "    h = np.dot(w.T, x) + b\n",
    "    assert(h.shape == y.shape)\n",
    "    ss = np.sum((y - h)**2)/2\n",
    "    return ss"
   ]
  },
  {
   "cell_type": "code",
   "execution_count": 9,
   "metadata": {},
   "outputs": [],
   "source": [
    "def step_gradient(x, y, w, b, learning_rate):\n",
    "    dw = np.array()\n",
    "    db = np.array()\n",
    "    for i in range(x.shape[1]):\n",
    "        dw = np.multiply(np.dot(w.T, x) + b, x[:, i])\n",
    "        db = np.dot(w.T, x) + b\n",
    "    w = w - (learning_rate * dw)\n",
    "    b = b - (learning_rate * db)\n",
    "    return w, b"
   ]
  },
  {
   "cell_type": "code",
   "execution_count": 10,
   "metadata": {},
   "outputs": [],
   "source": [
    "def gradient_descent(x, y, w, b, learning_rate, epoch):\n",
    "    cost = error_check(x, y, w, b)\n",
    "    print(\"cost at iteration 0: \", cost)\n",
    "    \n",
    "    for i in range(epoch):\n",
    "        w, b = step_gradient(x, y, w, b, learning_rate)\n",
    "    \n",
    "    return w, b"
   ]
  },
  {
   "cell_type": "code",
   "execution_count": 11,
   "metadata": {},
   "outputs": [],
   "source": [
    "def model(x, y, learning_rate, epoch):\n",
    "    w = np.zeros(x.shape[1], 1)\n",
    "    b = np.zeros(x.shape[1], 1)\n",
    "    \n",
    "    w, b = gradient_descent(x, y, w, b, learning_rate, epoch)\n",
    "    \n",
    "    return w, b"
   ]
  },
  {
   "cell_type": "code",
   "execution_count": null,
   "metadata": {},
   "outputs": [],
   "source": []
  }
 ],
 "metadata": {
  "kernelspec": {
   "display_name": "Python 3",
   "language": "python",
   "name": "python3"
  },
  "language_info": {
   "codemirror_mode": {
    "name": "ipython",
    "version": 3
   },
   "file_extension": ".py",
   "mimetype": "text/x-python",
   "name": "python",
   "nbconvert_exporter": "python",
   "pygments_lexer": "ipython3",
   "version": "3.7.6"
  }
 },
 "nbformat": 4,
 "nbformat_minor": 4
}
