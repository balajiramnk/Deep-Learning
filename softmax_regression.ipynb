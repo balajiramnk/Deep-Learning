{
 "cells": [
  {
   "cell_type": "code",
   "execution_count": 45,
   "metadata": {},
   "outputs": [],
   "source": [
    "import numpy as np\n",
    "import pickle\n",
    "import math"
   ]
  },
  {
   "cell_type": "code",
   "execution_count": 46,
   "metadata": {},
   "outputs": [],
   "source": [
    "def softmax(z):\n",
    "    t = np.exp(z)\n",
    "    d = np.sum(t, axis = 0)\n",
    "    return np.divide(t, d)"
   ]
  },
  {
   "cell_type": "code",
   "execution_count": 47,
   "metadata": {},
   "outputs": [],
   "source": [
    "def initialize():\n",
    "    w = np.random.rand(28 * 28, 26) * math.sqrt((2/784))\n",
    "    b = np.zeros([26, 1])\n",
    "    return w, b"
   ]
  },
  {
   "cell_type": "code",
   "execution_count": 48,
   "metadata": {},
   "outputs": [],
   "source": [
    "def propagation(x, y, w, b):\n",
    "    m = x.shape[1]\n",
    "    \n",
    "    z = np.dot(w.T, x) + b\n",
    "    a = softmax(z)\n",
    "    \n",
    "    cost = -(np.sum(y * np.log(a) + (1 - y) * np.log(1 - a)))/m\n",
    "    \n",
    "    dz = a - y\n",
    "    dw = np.dot(x, dz.T)/m\n",
    "    db = np.sum(dz, axis = 1, keepdims = True)/m\n",
    "    \n",
    "    grads = {\"dw\": dw,\n",
    "            \"db\": db}\n",
    "    \n",
    "    return a, cost, grads"
   ]
  },
  {
   "cell_type": "code",
   "execution_count": 49,
   "metadata": {},
   "outputs": [],
   "source": [
    "def optimize(w, b, grads, learning_rate):\n",
    "    \n",
    "    w = w - (learning_rate * grads[\"dw\"])\n",
    "    b = b - (learning_rate * grads[\"db\"])\n",
    "    \n",
    "    return w, b"
   ]
  },
  {
   "cell_type": "code",
   "execution_count": 50,
   "metadata": {},
   "outputs": [],
   "source": [
    "def predict(x, y, w, b):\n",
    "    \n",
    "    a, _, _ = propagation(x, y, w, b)\n",
    "    \n",
    "    acc = ((a * y)/ y.shape[1]).sum() * 100\n",
    "    \n",
    "    return acc"
   ]
  },
  {
   "cell_type": "code",
   "execution_count": 51,
   "metadata": {},
   "outputs": [],
   "source": [
    "def model(trainx, trainy, testx, testy, num_iteration, learning_rate = 0.05, print_cost = True):\n",
    "    \n",
    "    w, b = initialize()\n",
    "    costs = []\n",
    "    \n",
    "    for i in range(0, num_iteration+1):\n",
    "        \n",
    "        a, cost, grads = propagation(trainx, trainy, w, b)\n",
    "        w, b = optimize(w, b, grads, learning_rate)\n",
    "        \n",
    "        if(i%100==0 and print_cost):\n",
    "            costs.append(cost)\n",
    "            print(\"cost at iteration \", i, \": \", cost)\n",
    "        \n",
    "    train_acc = predict(trainx, trainy, w, b)\n",
    "    test_acc = predict(testx, testy, w, b)\n",
    "    \n",
    "    print(\"training accuracy: \", train_acc)\n",
    "    print(\"test accuracy: \", test_acc)\n",
    "    \n",
    "    performance = {\"w\": w,\n",
    "                  \"b\": b,\n",
    "                  \"costs\": costs,\n",
    "                  \"train_acc\": train_acc,\n",
    "                  \"test_acc\": test_acc}\n",
    "    return performance"
   ]
  },
  {
   "cell_type": "code",
   "execution_count": 52,
   "metadata": {},
   "outputs": [],
   "source": [
    "with open(\"fulalpha.pickle\", \"rb\") as pickle_in:\n",
    "    data = pickle.load(pickle_in)"
   ]
  },
  {
   "cell_type": "code",
   "execution_count": 53,
   "metadata": {},
   "outputs": [],
   "source": [
    "trainx = data[\"trainx\"]/255.0\n",
    "trainy = data[\"trainy_c\"]\n",
    "testx = data[\"testx\"]/255.0\n",
    "testy = data[\"testy_c\"]"
   ]
  },
  {
   "cell_type": "code",
   "execution_count": 54,
   "metadata": {},
   "outputs": [],
   "source": [
    "permutation_train = np.random.permutation(trainx.shape[1])\n",
    "permutation_test = np.random.permutation(testx.shape[1])\n",
    "\n",
    "trainx = trainx[:, permutation_train]\n",
    "trainy = trainy[:, permutation_train]\n",
    "testx = testx[:, permutation_test]\n",
    "testy = testy[:, permutation_test]"
   ]
  },
  {
   "cell_type": "code",
   "execution_count": 55,
   "metadata": {},
   "outputs": [
    {
     "name": "stdout",
     "output_type": "stream",
     "text": [
      "cost at iteration  0 :  4.247357853719499\n",
      "cost at iteration  100 :  2.7091912482378246\n",
      "cost at iteration  200 :  2.1288249678517612\n",
      "cost at iteration  300 :  1.8464991827466304\n",
      "cost at iteration  400 :  1.6784773398215396\n",
      "cost at iteration  500 :  1.5647194089744378\n",
      "cost at iteration  600 :  1.4811025059362382\n",
      "cost at iteration  700 :  1.4161725091048671\n",
      "cost at iteration  800 :  1.363769742427656\n",
      "cost at iteration  900 :  1.320260179639836\n",
      "cost at iteration  1000 :  1.2833435085499125\n",
      "cost at iteration  1100 :  1.2514817211360536\n",
      "cost at iteration  1200 :  1.2236007998674878\n",
      "cost at iteration  1300 :  1.1989238980707537\n",
      "cost at iteration  1400 :  1.1768726396892655\n",
      "cost at iteration  1500 :  1.1570059108082247\n",
      "cost at iteration  1600 :  1.1389803641499687\n",
      "cost at iteration  1700 :  1.1225240562302035\n",
      "cost at iteration  1800 :  1.1074183301055502\n",
      "cost at iteration  1900 :  1.0934850461379382\n",
      "cost at iteration  2000 :  1.080577381357523\n",
      "training accuracy:  64.99322619202255\n",
      "test accuracy:  63.275300593563564\n"
     ]
    }
   ],
   "source": [
    "performance = model(trainx, trainy, testx, testy, 2000)"
   ]
  },
  {
   "cell_type": "code",
   "execution_count": null,
   "metadata": {},
   "outputs": [],
   "source": []
  }
 ],
 "metadata": {
  "kernelspec": {
   "display_name": "Python 3",
   "language": "python",
   "name": "python3"
  },
  "language_info": {
   "codemirror_mode": {
    "name": "ipython",
    "version": 3
   },
   "file_extension": ".py",
   "mimetype": "text/x-python",
   "name": "python",
   "nbconvert_exporter": "python",
   "pygments_lexer": "ipython3",
   "version": "3.7.6"
  }
 },
 "nbformat": 4,
 "nbformat_minor": 4
}
