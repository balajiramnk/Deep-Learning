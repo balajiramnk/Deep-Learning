{
 "cells": [
  {
   "cell_type": "code",
   "execution_count": 13,
   "metadata": {},
   "outputs": [],
   "source": [
    "import numpy as np\n",
    "import pickle\n",
    "from matplotlib import pyplot as plt"
   ]
  },
  {
   "cell_type": "code",
   "execution_count": 2,
   "metadata": {},
   "outputs": [],
   "source": [
    "def sigmoid(z):\n",
    "    return 1/(1 + np.exp(-z))"
   ]
  },
  {
   "cell_type": "code",
   "execution_count": 3,
   "metadata": {},
   "outputs": [],
   "source": [
    "def initialize(dim):\n",
    "    return np.zeros([dim, 1]), 0"
   ]
  },
  {
   "cell_type": "code",
   "execution_count": 4,
   "metadata": {},
   "outputs": [],
   "source": [
    "def propagate(params, X, Y):\n",
    "    w = params['w']\n",
    "    b = params['b']\n",
    "    m = X.shape[1]\n",
    "    z = np.dot(w.T, X) + b\n",
    "    A = sigmoid(z)\n",
    "    \n",
    "    cost = -np.sum(Y * np.log(A) + (1 - Y) * np.log(1 - A))/m\n",
    "    \n",
    "    dz = A - Y\n",
    "    dw = np.dot(X, dz.T)/m\n",
    "    db = np.sum(dz, axis = 1, keepdims = True)/m\n",
    "    \n",
    "    assert(dw.shape == w.shape)\n",
    "    assert(cost.shape == ())\n",
    "    \n",
    "    grads = {\"dw\": dw,\n",
    "            \"db\": db}\n",
    "   \n",
    "    return grads, cost\n",
    "    \n",
    "    "
   ]
  },
  {
   "cell_type": "code",
   "execution_count": 5,
   "metadata": {},
   "outputs": [],
   "source": [
    "def optimize(params, X, Y, num_iterations, learning_rate, print_cost):\n",
    "    costs = []\n",
    "    for i in range(1, num_iterations + 1):\n",
    "        grads, cost = propagate(params, X, Y)\n",
    "        \n",
    "        dw = grads[\"dw\"]\n",
    "        db = grads[\"db\"]\n",
    "        \n",
    "        params[\"w\"] = params[\"w\"] - (learning_rate * dw)\n",
    "        params[\"b\"] = params[\"b\"] - (learning_rate * db)\n",
    "        \n",
    "        \n",
    "        if i%100 == 0 and print_cost:\n",
    "            print(\"cost at iteration \", i, \": \", cost)\n",
    "            costs.append(cost)\n",
    "        \n",
    "    return params, grads, costs"
   ]
  },
  {
   "cell_type": "code",
   "execution_count": 6,
   "metadata": {},
   "outputs": [],
   "source": [
    "def predict(w, b, X, Y):\n",
    "    z = np.dot(w.T, X) + b\n",
    "    A = sigmoid(z)\n",
    "    \n",
    "    Y_prediction = np.where(A<=0.5, 0, 1)\n",
    "    \n",
    "    acc = 100 - np.mean(np.abs(Y_prediction - Y)) * 100\n",
    "    \n",
    "    return acc"
   ]
  },
  {
   "cell_type": "code",
   "execution_count": 7,
   "metadata": {},
   "outputs": [],
   "source": [
    "def model(train_x, train_y, test_x, test_y, num_iteration, learning_rate, print_cost):\n",
    "    w, b = initialize(train_x.shape[0])\n",
    "    params = {\"w\": w,\n",
    "             \"b\": b}\n",
    "    params, grads, costs = optimize(params, train_x, train_y, num_iteration, learning_rate, print_cost)\n",
    "    \n",
    "    train_acc = predict(params[\"w\"], params[\"b\"], train_x, train_y)\n",
    "    test_acc = predict(params[\"w\"], params[\"b\"], test_x, test_y)\n",
    "    \n",
    "    print(\"training accuracy: \", train_acc)\n",
    "    print(\"test accuracy: \", test_acc)\n",
    "    \n",
    "    data = {\"params\": params,\n",
    "           \"grads\": grads,\n",
    "           \"costs\": costs,\n",
    "           \"train_acc\": train_acc,\n",
    "           \"test_acc\": test_acc}\n",
    "    \n",
    "    return data"
   ]
  },
  {
   "cell_type": "code",
   "execution_count": 8,
   "metadata": {},
   "outputs": [],
   "source": [
    "with open(\"handwrittendata.pickle\", \"rb\") as pickle_in:\n",
    "    data = pickle.load(pickle_in)"
   ]
  },
  {
   "cell_type": "code",
   "execution_count": 9,
   "metadata": {},
   "outputs": [
    {
     "name": "stdout",
     "output_type": "stream",
     "text": [
      "dict_keys(['trainx', 'trainy', 'testx', 'testy'])\n"
     ]
    }
   ],
   "source": [
    "print(data.keys())\n",
    "trainx = data['trainx']\n",
    "trainy = data['trainy']\n",
    "testx = data['testx']\n",
    "testy = data['testy']"
   ]
  },
  {
   "cell_type": "code",
   "execution_count": 10,
   "metadata": {},
   "outputs": [],
   "source": [
    "testx = testx/255\n",
    "trainx = trainx/255"
   ]
  },
  {
   "cell_type": "code",
   "execution_count": 11,
   "metadata": {},
   "outputs": [],
   "source": [
    "permutation_train = np.random.permutation(trainx.shape[1])\n",
    "permutation_test = np.random.permutation(testx.shape[1])\n",
    "\n",
    "trainx = trainx[:, permutation_train]\n",
    "trainy = trainy[:, permutation_train]\n",
    "testx = testx[:, permutation_test]\n",
    "testy = testy[:, permutation_test]"
   ]
  },
  {
   "cell_type": "code",
   "execution_count": 14,
   "metadata": {},
   "outputs": [
    {
     "data": {
      "text/plain": [
       "<matplotlib.image.AxesImage at 0x234f17e5888>"
      ]
     },
     "execution_count": 14,
     "metadata": {},
     "output_type": "execute_result"
    },
    {
     "data": {
      "image/png": "[encoded data removed]",
      "text/plain": [
       "<Figure size 432x288 with 1 Axes>"
      ]
     },
     "metadata": {
      "needs_background": "light"
     },
     "output_type": "display_data"
    }
   ],
   "source": [
    "index = 108\n",
    "img = trainx[:, index]\n",
    "img = img.reshape(28, 28)\n",
    "plt.imshow(img, cmap = \"gray\")"
   ]
  },
  {
   "cell_type": "code",
   "execution_count": 18,
   "metadata": {},
   "outputs": [
    {
     "name": "stdout",
     "output_type": "stream",
     "text": [
      "cost at iteration  100 :  0.4014267317402971\n",
      "cost at iteration  200 :  0.3002306447961417\n",
      "cost at iteration  300 :  0.24911164288319676\n",
      "cost at iteration  400 :  0.21760020949079847\n",
      "cost at iteration  500 :  0.19587957809645315\n",
      "cost at iteration  600 :  0.17981086713103386\n",
      "cost at iteration  700 :  0.16733094080244929\n",
      "cost at iteration  800 :  0.15728842486310182\n",
      "cost at iteration  900 :  0.14898640126758353\n",
      "cost at iteration  1000 :  0.14197636079569162\n",
      "cost at iteration  1100 :  0.13595547499034152\n",
      "cost at iteration  1200 :  0.1307112291282901\n",
      "cost at iteration  1300 :  0.12608967487001704\n",
      "cost at iteration  1400 :  0.1219762840365205\n",
      "cost at iteration  1500 :  0.11828390687082203\n",
      "cost at iteration  1600 :  0.11494492490597348\n",
      "cost at iteration  1700 :  0.11190597928502675\n",
      "cost at iteration  1800 :  0.10912433454079112\n",
      "cost at iteration  1900 :  0.1065653117917592\n",
      "cost at iteration  2000 :  0.10420043944414009\n",
      "cost at iteration  2100 :  0.10200609638552224\n",
      "cost at iteration  2200 :  0.09996250016278653\n",
      "cost at iteration  2300 :  0.09805294126792645\n",
      "cost at iteration  2400 :  0.09626319591196104\n",
      "cost at iteration  2500 :  0.09458107019703839\n",
      "cost at iteration  2600 :  0.09299604234882841\n",
      "cost at iteration  2700 :  0.091498979049345\n",
      "cost at iteration  2800 :  0.09008190841105045\n",
      "cost at iteration  2900 :  0.08873783670745364\n",
      "cost at iteration  3000 :  0.08746059923909626\n",
      "cost at iteration  3100 :  0.08624473807234663\n",
      "cost at iteration  3200 :  0.08508540111316178\n",
      "cost at iteration  3300 :  0.0839782582532385\n",
      "cost at iteration  3400 :  0.08291943127863778\n",
      "cost at iteration  3500 :  0.08190543494951409\n",
      "cost at iteration  3600 :  0.08093312720645064\n",
      "cost at iteration  3700 :  0.07999966687864034\n",
      "cost at iteration  3800 :  0.07910247759389118\n",
      "cost at iteration  3900 :  0.07823921684355895\n",
      "cost at iteration  4000 :  0.0774077493542182\n",
      "training accuracy:  97.90104947526237\n",
      "test accuracy:  97.5\n"
     ]
    }
   ],
   "source": [
    "d = model(trainx, trainy, testx, testy, 4000, 0.005, True)"
   ]
  },
  {
   "cell_type": "code",
   "execution_count": null,
   "metadata": {},
   "outputs": [],
   "source": []
  }
 ],
 "metadata": {
  "kernelspec": {
   "display_name": "Python 3",
   "language": "python",
   "name": "python3"
  },
  "language_info": {
   "codemirror_mode": {
    "name": "ipython",
    "version": 3
   },
   "file_extension": ".py",
   "mimetype": "text/x-python",
   "name": "python",
   "nbconvert_exporter": "python",
   "pygments_lexer": "ipython3",
   "version": "3.7.6"
  }
 },
 "nbformat": 4,
 "nbformat_minor": 4
}
