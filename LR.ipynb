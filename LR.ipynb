{
 "cells": [
  {
   "cell_type": "code",
   "execution_count": 1,
   "metadata": {},
   "outputs": [],
   "source": [
    "import numpy as np\n",
    "import pickle"
   ]
  },
  {
   "cell_type": "code",
   "execution_count": 2,
   "metadata": {},
   "outputs": [],
   "source": [
    "def sigmoid(z):\n",
    "    return 1/(1 + np.exp(-z))"
   ]
  },
  {
   "cell_type": "code",
   "execution_count": 3,
   "metadata": {},
   "outputs": [],
   "source": [
    "def initialize(dim):\n",
    "    return np.zeros([dim, 1]), 0"
   ]
  },
  {
   "cell_type": "code",
   "execution_count": 19,
   "metadata": {},
   "outputs": [],
   "source": [
    "def propagate(params, X, Y):\n",
    "    w = params['w']\n",
    "    b = params['b']\n",
    "    m = X.shape[1]\n",
    "    z = np.dot(w.T, X) + b\n",
    "    A = sigmoid(z)\n",
    "    \n",
    "    cost = -np.sum(Y * np.log(A) + (1 - Y) * np.log(1 - A))/m\n",
    "    \n",
    "    dz = A - Y\n",
    "    dw = np.dot(X, dz.T)/m\n",
    "    db = np.sum(dz, axis = 1, keepdims = True)/m\n",
    "    \n",
    "    assert(dw.shape == w.shape)\n",
    "    assert(cost.shape == ())\n",
    "    \n",
    "    grads = {\"dw\": dw,\n",
    "            \"db\": db}\n",
    "   \n",
    "    return grads, cost\n",
    "    \n",
    "    "
   ]
  },
  {
   "cell_type": "code",
   "execution_count": 20,
   "metadata": {},
   "outputs": [],
   "source": [
    "def optimize(params, X, Y, num_iterations, learning_rate, print_cost):\n",
    "    costs = []\n",
    "    for i in range(1, num_iterations + 1):\n",
    "        grads, cost = propagate(params, X, Y)\n",
    "        \n",
    "        dw = grads[\"dw\"]\n",
    "        db = grads[\"db\"]\n",
    "        \n",
    "        params[\"w\"] = params[\"w\"] - (learning_rate * dw)\n",
    "        params[\"b\"] = params[\"b\"] - (learning_rate * db)\n",
    "        \n",
    "        \n",
    "        if i%100 == 0 and print_cost:\n",
    "            print(\"cost at iteration \", i, \": \", cost)\n",
    "            costs.append(cost)\n",
    "        \n",
    "    return params, grads, costs"
   ]
  },
  {
   "cell_type": "code",
   "execution_count": 21,
   "metadata": {},
   "outputs": [],
   "source": [
    "def predict(w, b, X, Y):\n",
    "    z = np.dot(w.T, X) + b\n",
    "    A = sigmoid(z)\n",
    "    \n",
    "    Y_prediction = np.where(A<=0.5, 0, 1)\n",
    "    \n",
    "    acc = 100 - np.mean(np.abs(Y_prediction - Y)) * 100\n",
    "    \n",
    "    return acc"
   ]
  },
  {
   "cell_type": "code",
   "execution_count": 22,
   "metadata": {},
   "outputs": [],
   "source": [
    "def model(train_x, train_y, test_x, test_y, num_iteration, learning_rate, print_cost):\n",
    "    w, b = initialize(train_x.shape[0])\n",
    "    params = {\"w\": w,\n",
    "             \"b\": b}\n",
    "    params, grads, costs = optimize(params, train_x, train_y, num_iteration, learning_rate, print_cost)\n",
    "    \n",
    "    train_acc = predict(params[\"w\"], params[\"b\"], train_x, train_y)\n",
    "    test_acc = predict(params[\"w\"], params[\"b\"], test_x, test_y)\n",
    "    \n",
    "    print(\"training accuracy: \", train_acc)\n",
    "    print(\"test accuracy: \", test_acc)\n",
    "    \n",
    "    data = {\"params\": params,\n",
    "           \"grads\": grads,\n",
    "           \"costs\": costs,\n",
    "           \"train_acc\": train_acc,\n",
    "           \"test_acc\": test_acc}\n",
    "    \n",
    "    return data"
   ]
  },
  {
   "cell_type": "code",
   "execution_count": 16,
   "metadata": {},
   "outputs": [],
   "source": [
    "with open(\"handwrittendata.pickle\", \"rb\") as pickle_in:\n",
    "    data = pickle.load(pickle_in)"
   ]
  },
  {
   "cell_type": "code",
   "execution_count": 25,
   "metadata": {},
   "outputs": [
    {
     "name": "stdout",
     "output_type": "stream",
     "text": [
      "dict_keys(['trainx', 'trainy', 'testx', 'testy'])\n"
     ]
    }
   ],
   "source": [
    "print(data.keys())\n",
    "trainx = data['trainx']\n",
    "trainy = data['trainy']\n",
    "testx = data['testx']\n",
    "testy = data['testy']"
   ]
  },
  {
   "cell_type": "code",
   "execution_count": 27,
   "metadata": {},
   "outputs": [],
   "source": [
    "testx = testx/255\n",
    "trainx = trainx/255"
   ]
  },
  {
   "cell_type": "code",
   "execution_count": 28,
   "metadata": {},
   "outputs": [
    {
     "name": "stdout",
     "output_type": "stream",
     "text": [
      "cost at iteration  100 :  0.14205804265900393\n",
      "cost at iteration  200 :  0.10421048665920334\n",
      "cost at iteration  300 :  0.08746335251802416\n",
      "cost at iteration  400 :  0.07740902601344538\n",
      "cost at iteration  500 :  0.07048266057718547\n",
      "cost at iteration  600 :  0.06531720392108861\n",
      "cost at iteration  700 :  0.06126024098812191\n",
      "cost at iteration  800 :  0.057955503643976766\n",
      "cost at iteration  900 :  0.05518963336347789\n",
      "cost at iteration  1000 :  0.052825929690628375\n",
      "training accuracy:  98.55072463768116\n",
      "test accuracy:  50.0\n"
     ]
    }
   ],
   "source": [
    "d = model(trainx, trainy, testx, testy, 1000, 0.05, True)"
   ]
  },
  {
   "cell_type": "code",
   "execution_count": null,
   "metadata": {},
   "outputs": [],
   "source": []
  }
 ],
 "metadata": {
  "kernelspec": {
   "display_name": "Python 3",
   "language": "python",
   "name": "python3"
  },
  "language_info": {
   "codemirror_mode": {
    "name": "ipython",
    "version": 3
   },
   "file_extension": ".py",
   "mimetype": "text/x-python",
   "name": "python",
   "nbconvert_exporter": "python",
   "pygments_lexer": "ipython3",
   "version": "3.7.6"
  }
 },
 "nbformat": 4,
 "nbformat_minor": 4
}
