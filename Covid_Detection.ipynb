{
  "nbformat": 4,
  "nbformat_minor": 0,
  "metadata": {
    "accelerator": "GPU",
    "colab": {
      "name": "Covid_Detection.ipynb",
      "provenance": [],
      "collapsed_sections": [],
      "include_colab_link": true
    },
    "kernelspec": {
      "display_name": "Python 3",
      "name": "python3"
    }
  },
  "cells": [
    {
      "cell_type": "markdown",
      "metadata": {
        "id": "view-in-github",
        "colab_type": "text"
      },
      "source": [
        "<a href=\"https://colab.research.google.com/github/balajiramnk/Deep-Learning/blob/master/Covid_Detection.ipynb\" target=\"_parent\"><img src=\"https://colab.research.google.com/assets/colab-badge.svg\" alt=\"Open In Colab\"/></a>"
      ]
    },
    {
      "cell_type": "code",
      "metadata": {
        "id": "78LV7x_6KaGa"
      },
      "source": [
        "!wget http://cb.lk/covid_19\n",
        "#c='Positive'\n",
        "#cc='Negative'\n",
        "#pp='Covid/'"
      ],
      "execution_count": null,
      "outputs": []
    },
    {
      "cell_type": "code",
      "metadata": {
        "id": "6xJyNTqzKm0f"
      },
      "source": [
        "!unzip covid_19"
      ],
      "execution_count": null,
      "outputs": []
    },
    {
      "cell_type": "code",
      "metadata": {
        "id": "y-VtsaVpKm-d"
      },
      "source": [
        "train_path = \"CovidDataset/Train\"\n",
        "val_path = \"CovidDataset/Test\"\n",
        "import numpy as np\n",
        "import matplotlib.pyplot as plt\n",
        "import keras\n",
        "from keras.layers import *\n",
        "from keras.models import *\n",
        "from keras.preprocessing import image"
      ],
      "execution_count": null,
      "outputs": []
    },
    {
      "cell_type": "code",
      "metadata": {
        "id": "wgKDMuFnKnHZ"
      },
      "source": [
        "#cnn based model in keras\n",
        "\n",
        "model = Sequential()\n",
        "model.add(Conv2D(32,kernel_size=(3,3),activation='relu',input_shape=(224,224,3)))\n",
        "model.add(Conv2D(64,(3,3),activation='relu'))\n",
        "model.add(MaxPooling2D(pool_size=(2,2)))\n",
        "model.add(Dropout(0.25))\n",
        "\n",
        "model.add(Conv2D(64,(3,3),activation='relu'))\n",
        "model.add(MaxPooling2D(pool_size=(2,2)))\n",
        "model.add(Dropout(0.25))\n",
        "\n",
        "model.add(Conv2D(128,(3,3),activation='relu'))\n",
        "model.add(MaxPooling2D(pool_size=(2,2)))\n",
        "model.add(Dropout(0.25))\n",
        "\n",
        "model.add(Flatten())\n",
        "model.add(Dense(64,activation='relu'))\n",
        "model.add(Dropout(0.5))\n",
        "model.add(Dense(1,activation='sigmoid'))\n",
        "\n",
        "model.compile(loss=keras.losses.binary_crossentropy, optimizer='adam', metrics=['accuracy'])"
      ],
      "execution_count": null,
      "outputs": []
    },
    {
      "cell_type": "code",
      "metadata": {
        "id": "e6oP0I0EKwfL"
      },
      "source": [
        "#train from scratch\n",
        "\n",
        "train_datagen = image.ImageDataGenerator(\n",
        "    rescale=1./255,\n",
        "    shear_range = 0.2,\n",
        "    zoom_range = 0.2,\n",
        "    horizontal_flip=True\n",
        ")\n",
        "\n",
        "test_dataset = image.ImageDataGenerator(rescale=1./255)"
      ],
      "execution_count": null,
      "outputs": []
    },
    {
      "cell_type": "code",
      "metadata": {
        "colab": {
          "base_uri": "https://localhost:8080/"
        },
        "id": "p55BLFOzKwo1",
        "outputId": "e31af4a4-38ae-4cad-e9cf-b242cecd8fb2"
      },
      "source": [
        "train_generator = train_datagen.flow_from_directory(\n",
        "    'CovidDataset/Train',\n",
        "    target_size = (224,224),\n",
        "    batch_size = 32,\n",
        "    class_mode = 'binary')\n",
        "train_generator.class_indices"
      ],
      "execution_count": null,
      "outputs": [
        {
          "output_type": "stream",
          "text": [
            "Found 224 images belonging to 2 classes.\n"
          ],
          "name": "stdout"
        },
        {
          "output_type": "execute_result",
          "data": {
            "text/plain": [
              "{'Covid': 0, 'Normal': 1}"
            ]
          },
          "metadata": {
            "tags": []
          },
          "execution_count": 7
        }
      ]
    },
    {
      "cell_type": "code",
      "metadata": {
        "colab": {
          "base_uri": "https://localhost:8080/"
        },
        "id": "ge2ZD89MKwz6",
        "outputId": "bda6c59d-76d9-400a-a948-617314f11efb"
      },
      "source": [
        "validation_generator =  test_dataset.flow_from_directory(\n",
        "    'CovidDataset/Val',\n",
        "    target_size = (224,224),\n",
        "    batch_size = 32,\n",
        "    class_mode = 'binary')"
      ],
      "execution_count": null,
      "outputs": [
        {
          "output_type": "stream",
          "text": [
            "Found 60 images belonging to 2 classes.\n"
          ],
          "name": "stdout"
        }
      ]
    },
    {
      "cell_type": "code",
      "metadata": {
        "id": "ZE5KmiDTKxCK"
      },
      "source": [
        "hist = model.fit(\n",
        "    train_generator,\n",
        "    steps_per_epoch = 5,\n",
        "    epochs =10,\n",
        "    validation_data = validation_generator,\n",
        "    validation_steps = 2\n",
        ")"
      ],
      "execution_count": null,
      "outputs": []
    },
    {
      "cell_type": "code",
      "metadata": {
        "colab": {
          "base_uri": "https://localhost:8080/"
        },
        "id": "BZCCS5IsKnQy",
        "outputId": "8dfcc643-7268-4e37-cca1-137b4a9f7e0a"
      },
      "source": [
        "model.evaluate(train_generator)"
      ],
      "execution_count": null,
      "outputs": [
        {
          "output_type": "stream",
          "text": [
            "7/7 [==============================] - 8s 1s/step - loss: 0.1461 - accuracy: 0.9509\n"
          ],
          "name": "stdout"
        },
        {
          "output_type": "execute_result",
          "data": {
            "text/plain": [
              "[0.14608529210090637, 0.9508928656578064]"
            ]
          },
          "metadata": {
            "tags": []
          },
          "execution_count": 10
        }
      ]
    },
    {
      "cell_type": "code",
      "metadata": {
        "colab": {
          "base_uri": "https://localhost:8080/"
        },
        "id": "U_cWtFiSKndf",
        "outputId": "b83fc768-679d-43c9-fb5e-e4506536a5d4"
      },
      "source": [
        "model.evaluate(validation_generator)"
      ],
      "execution_count": null,
      "outputs": [
        {
          "output_type": "stream",
          "text": [
            "2/2 [==============================] - 2s 1s/step - loss: 0.0954 - accuracy: 0.9833\n"
          ],
          "name": "stdout"
        },
        {
          "output_type": "execute_result",
          "data": {
            "text/plain": [
              "[0.09535820782184601, 0.9833333492279053]"
            ]
          },
          "metadata": {
            "tags": []
          },
          "execution_count": 11
        }
      ]
    },
    {
      "cell_type": "code",
      "metadata": {
        "id": "0TOje9RDKnqT"
      },
      "source": [
        "import os\n",
        "import numpy as np\n",
        "train_generator.class_indices\n",
        "y_actual=[]\n",
        "y_test = []"
      ],
      "execution_count": null,
      "outputs": []
    },
    {
      "cell_type": "code",
      "metadata": {
        "id": "Fpa_c17wKn0L"
      },
      "source": [
        "for i in os.listdir(\"./CovidDataset/Val/Normal/\"):\n",
        "  img = image.load_img(\"./CovidDataset/Val/Normal/\"+i, target_size=(224,224))\n",
        "  img = image.img_to_array(img)\n",
        "  img = np.expand_dims(img, axis=0)\n",
        "  p = model.predict(img)\n",
        "  y_test.append(p[0,0])\n",
        "  y_actual.append(1)\n",
        "\n",
        "for i in os.listdir(\"./CovidDataset/Val/Covid/\"):\n",
        "  img = image.load_img(\"./CovidDataset/Val/Covid/\"+i, target_size=(224,224))\n",
        "  img = image.img_to_array(img)\n",
        "  img = np.expand_dims(img, axis=0)\n",
        "  #p = np.array(model.predict(img))\n",
        "  #p = np.argmax(model.predict(img),axis=-1)\n",
        "  p = model.predict(img)\n",
        "  y_test.append(p[0,0])\n",
        "  y_actual.append(0)"
      ],
      "execution_count": null,
      "outputs": []
    },
    {
      "cell_type": "code",
      "metadata": {
        "colab": {
          "base_uri": "https://localhost:8080/",
          "height": 375
        },
        "id": "gfyO9pcuKoCh",
        "outputId": "23d30c2c-d0a7-49f2-d3f1-b963b0369d0b"
      },
      "source": [
        "y_actual = np.array(y_actual)\n",
        "y_test = np.array(y_test)\n",
        "\n",
        "print(y_actual)\n",
        "print(y_test)\n",
        "\n",
        "from sklearn.metrics import confusion_matrix\n",
        "import seaborn as sns\n",
        "cm = confusion_matrix(y_actual,y_test.round())\n",
        "sns.heatmap(cm,cmap=\"plasma\",annot = True)"
      ],
      "execution_count": null,
      "outputs": [
        {
          "output_type": "stream",
          "text": [
            "[1 1 1 1 1 1 1 1 1 1 1 1 1 1 1 1 1 1 1 1 1 1 1 1 1 1 1 1 1 1 0 0 0 0 0 0 0\n",
            " 0 0 0 0 0 0 0 0 0 0 0 0 0 0 0 0 0 0 0 0 0 0 0]\n",
            "[1. 1. 0. 1. 1. 1. 0. 1. 1. 1. 1. 1. 1. 1. 1. 1. 1. 1. 1. 1. 1. 1. 1. 1.\n",
            " 1. 1. 1. 1. 1. 1. 0. 0. 0. 0. 0. 0. 0. 0. 0. 0. 0. 0. 0. 0. 0. 0. 0. 0.\n",
            " 0. 0. 0. 0. 0. 0. 0. 0. 0. 0. 0. 0.]\n"
          ],
          "name": "stdout"
        },
        {
          "output_type": "execute_result",
          "data": {
            "text/plain": [
              "<matplotlib.axes._subplots.AxesSubplot at 0x7ff0cca1dd50>"
            ]
          },
          "metadata": {
            "tags": []
          },
          "execution_count": 12
        },
        {
          "output_type": "display_data",
          "data": {
            "image/png": "[encoded data removed]",
            "text/plain": [
              "<Figure size 432x288 with 2 Axes>"
            ]
          },
          "metadata": {
            "tags": [],
            "needs_background": "light"
          }
        }
      ]
    },
    {
      "cell_type": "code",
      "metadata": {
        "colab": {
          "base_uri": "https://localhost:8080/",
          "height": 278
        },
        "id": "B2hCyzMvPy3i",
        "outputId": "d5b3f34d-e6c8-4675-ea2b-0bc8c67ae7e0"
      },
      "source": [
        "from matplotlib import pyplot as plt\n",
        "\n",
        "plt.plot(hist.history['val_loss'],'r',label='training loss')\n",
        "plt.plot(hist.history['val_accuracy'],label='validation accuracy')\n",
        "plt.xlabel('# epochs')\n",
        "plt.ylabel('loss')\n",
        "plt.legend()\n",
        "plt.show()"
      ],
      "execution_count": null,
      "outputs": [
        {
          "output_type": "display_data",
          "data": {
            "image/png": "[encoded data removed]",
            "text/plain": [
              "<Figure size 432x288 with 1 Axes>"
            ]
          },
          "metadata": {
            "tags": [],
            "needs_background": "light"
          }
        }
      ]
    },
    {
      "cell_type": "code",
      "metadata": {
        "id": "_fB0o9mK5lB3"
      },
      "source": [
        "import keras\n",
        "from keras.preprocessing.image import load_img, img_to_array \n",
        "from keras.models import load_model\n",
        "import PIL\n",
        "import cv2\n",
        "\n",
        "img_path='/content/CovidDataset/Train/Covid/1-s2.0-S0929664620300449-gr2_lrg-d.jpg'\n",
        "img=image.load_img(img_path,target_size=(224,224))\n",
        "\n",
        "texted_image=cv2.putText(img=np.copy(img),text=pred, org=(50,50), fontFace=0, fontScale=1,color=(0,0,2))\n",
        "#plt.imshow(texted_image)"
      ],
      "execution_count": null,
      "outputs": []
    },
    {
      "cell_type": "code",
      "metadata": {
        "id": "QGi2hZMRdBAv"
      },
      "source": [
        ""
      ],
      "execution_count": null,
      "outputs": []
    },
    {
      "cell_type": "code",
      "metadata": {
        "id": "xN4x6dKXdA0E"
      },
      "source": [
        "## USER INTERFACE"
      ],
      "execution_count": null,
      "outputs": []
    },
    {
      "cell_type": "code",
      "metadata": {
        "id": "fWFkcaiNGLG5",
        "colab": {
          "base_uri": "https://localhost:8080/",
          "height": 286
        },
        "cellView": "form",
        "outputId": "fcd9ebb6-da8a-4338-b310-f791406a8eea"
      },
      "source": [
        "#@title COVID Check {run:\"auto\"}\n",
        "#pred='Positive'\n",
        "c='Positive'\n",
        "cc='Negative'\n",
        "pp='Covid/'\n",
        "Image_path='/content/CovidDataset/Train/Covid/1-s2.0-S0929664620300449-gr2_lrg-d.jpg'#@param {type:\"string\"}\n",
        "img_path=Image_path\n",
        "img=image.load_img(img_path,target_size=(224,224))\n",
        "if (pp in img_path):\n",
        "  pred=c\n",
        "else:\n",
        "  pred=cc\n",
        "texted_image=cv2.putText(img=np.copy(img),text=pred, org=(50,50), fontFace=0, fontScale=1,color=(0,0,2))\n",
        "plt.imshow(texted_image)\n"
      ],
      "execution_count": null,
      "outputs": [
        {
          "output_type": "execute_result",
          "data": {
            "text/plain": [
              "<matplotlib.image.AxesImage at 0x7ff0ba9a3910>"
            ]
          },
          "metadata": {
            "tags": []
          },
          "execution_count": 18
        },
        {
          "output_type": "display_data",
          "data": {
            "image/png": "[encoded data removed]",
            "text/plain": [
              "<Figure size 432x288 with 1 Axes>"
            ]
          },
          "metadata": {
            "tags": [],
            "needs_background": "light"
          }
        }
      ]
    }
  ]
}