{
 "cells": [
  {
   "cell_type": "code",
   "execution_count": 22,
   "metadata": {},
   "outputs": [],
   "source": [
    "from matplotlib import pyplot as plt\n",
    "import numpy as np\n",
    "import pandas as pd\n",
    "from sklearn.model_selection import train_test_split"
   ]
  },
  {
   "cell_type": "code",
   "execution_count": 6,
   "metadata": {},
   "outputs": [],
   "source": [
    "def error_check(y, h):\n",
    "    m = y.shape[1]\n",
    "    cost = -(1/m) * (np.sum((y * np.log(h)) + (1 - y) * np.log(1 - h)))\n",
    "    return cost"
   ]
  },
  {
   "cell_type": "code",
   "execution_count": 63,
   "metadata": {},
   "outputs": [],
   "source": [
    "def sigmoid(z):\n",
    "    s = 1/(1 + np.exp(-z))\n",
    "    return s\n",
    "def sigmoid_back(dA):\n",
    "    return dA * (1 - dA)\n",
    "def relu(z):\n",
    "    return np.where(z>=0, z, 0)\n",
    "def relu_back(dA):\n",
    "    return np.where(dA>=0, 1, 0)"
   ]
  },
  {
   "cell_type": "code",
   "execution_count": 84,
   "metadata": {},
   "outputs": [],
   "source": [
    "def for_prop(x, y, params):\n",
    "    A_prev = x\n",
    "    caches = []\n",
    "    for i in range(len(params)-1):\n",
    "        w, b = params[i]\n",
    "        z = np.dot(w, A_prev) + b\n",
    "        cache = [A_prev, w, b, z]\n",
    "        A_prev = relu(z)\n",
    "        caches.append(cache)\n",
    "    w, b = params[-1]\n",
    "    z = np.dot(w, A_prev) + b\n",
    "    cache = [A_prev, w, b, z]\n",
    "    A_prev = sigmoid(z)\n",
    "    caches.append(cache)\n",
    "    \n",
    "    cost = error_check(y, A_prev)\n",
    "    \n",
    "    return A_prev, caches, cost"
   ]
  },
  {
   "cell_type": "code",
   "execution_count": 77,
   "metadata": {},
   "outputs": [],
   "source": [
    "def back_prop(A, y, caches):\n",
    "    m = y.shape[1]\n",
    "    gradients = []\n",
    "    dA = -(np.divide(y, np.log(A)) + np.divide((1 - y), np.log(1 - A)))\n",
    "    \n",
    "    A_prev, w, b, z = caches[-1]\n",
    "    dz = np.multiply(sigmoid_back(dA), dA)\n",
    "    dw = np.dot(A_prev, dz.T)/m\n",
    "    db = np.sum(dz, axis = 1, keepdims = True)/m\n",
    "    \n",
    "    gradients.append([dw, db])\n",
    "    \n",
    "    dA = np.dot(w.T, dz)/m\n",
    "    \n",
    "    for i in range(len(caches) - 2, -1, -1):\n",
    "        A_prev, w, b, z = caches[i]\n",
    "        dz = np.multiply(relu_back(dA), dA)\n",
    "        dw = np.dot(dz, A_prev.T)/m\n",
    "        db = np.sum(dz, axis = 1, keepdims = True)/m\n",
    "        assert(w.shape == dw.shape)\n",
    "        assert(b.shape == db.shape)\n",
    "        \n",
    "        gradients.append([dw, db])\n",
    "        \n",
    "        dA = np.dot(w.T, dz)/m\n",
    "        \n",
    "    return gradients"
   ]
  },
  {
   "cell_type": "code",
   "execution_count": 83,
   "metadata": {},
   "outputs": [],
   "source": [
    "def update(x, y, params, learning_rate, epochs):\n",
    "    \n",
    "    costs = []\n",
    "    for j in range(epochs+1):\n",
    "        A, caches, cost = for_prop(x, y, params)\n",
    "        gradients = back_prop(A, y, caches)\n",
    "        grads = []\n",
    "\n",
    "        for i in reversed(gradients):\n",
    "            grads.append(i)\n",
    "\n",
    "        for i in range(len(params)):\n",
    "            params[i][0] = params[i][0] - (learning_rate * grads[i][0])\n",
    "            params[i][1] = params[i][1] - (learning_rate * grads[i][1])\n",
    "        \n",
    "        if j%10==0:\n",
    "            print(\"cost at iteration \", i, \": \", cost)\n",
    "        costs.append(cost)\n",
    "    return params, costs"
   ]
  },
  {
   "cell_type": "code",
   "execution_count": 14,
   "metadata": {},
   "outputs": [],
   "source": [
    "def initialize(dim):\n",
    "    params = []\n",
    "    for i in range(1, len(dim)):\n",
    "        w = np.full((dim[i], dim[i - 1]), 0.1)\n",
    "        b = np.full((dim[i], 1), 0.1)\n",
    "        params.append([w, b])\n",
    "    return params"
   ]
  },
  {
   "cell_type": "code",
   "execution_count": 16,
   "metadata": {},
   "outputs": [],
   "source": [
    "def predict(x, y, params):\n",
    "    A, _, _ = for_prop(x, y, params)\n",
    "    y_hat = []\n",
    "    for i in range(A.shape[1]):\n",
    "        if A[0, i] >= 0.5:\n",
    "            y_hat.append(1)\n",
    "        else:\n",
    "            y_hat.append(0)\n",
    "    y_hat = np.array(y_hat).reshape(1, -1)\n",
    "    acc = 100 - (np.mean(np.abs(y - y_hat)) * 100)\n",
    "    return acc"
   ]
  },
  {
   "cell_type": "code",
   "execution_count": 18,
   "metadata": {},
   "outputs": [],
   "source": [
    "def model(trainx, trainy, testx, testy, dim, learning_rate, epochs):\n",
    "    params = initialize(dim)\n",
    "    \n",
    "    params, costs = update(trainx, trainy, params, learning_rate, epochs)\n",
    "    \n",
    "    train_acc = predict(trainx, trainy, params)\n",
    "    test_acc = predict(testx, testy, params)\n",
    "    \n",
    "    pf = {'params': params,\n",
    "          'costs': costs,\n",
    "         'train_acc': train_acc,\n",
    "         'test_acc': test_acc}\n",
    "    return pf"
   ]
  },
  {
   "cell_type": "code",
   "execution_count": 59,
   "metadata": {},
   "outputs": [],
   "source": [
    "with open('2d_dataset_8.csv', 'r') as file:\n",
    "    df = pd.read_csv(file)\n",
    "a = df.alpha.values.reshape(1, -1)\n",
    "b = df.beta.values.reshape(1, -1)\n",
    "min_a = np.min(a)\n",
    "max_a = np.max(a)\n",
    "min_b = np.min(b)\n",
    "max_b = np.max(b)\n",
    "a = (a - min_a)/(max_a - min_a)\n",
    "b = (b - min_b)/(max_b - min_b)\n",
    "y = df.y.values.reshape(1, -1)\n",
    "x1 = []\n",
    "y1 = []\n",
    "x2 = []\n",
    "y2 = []\n",
    "for i in range(y.shape[1]):\n",
    "    if y[0, i]==1:\n",
    "        x1.append(a[0, i])\n",
    "        y1.append(b[0, i])\n",
    "    else:\n",
    "        x2.append(a[0, i])\n",
    "        y2.append(b[0, i])\n",
    "x = np.array([df.alpha.values, df.beta.values], dtype = float).T\n",
    "y = df.y.values.reshape(-1, 1)\n",
    "trainx, testx, trainy, testy = train_test_split(x, y, test_size = 0.1, random_state = 1)\n",
    "trainx = trainx.T\n",
    "testx = testx.T\n",
    "trainy = trainy.reshape(1, -1)\n",
    "testy = testy.reshape(1, -1)"
   ]
  },
  {
   "cell_type": "code",
   "execution_count": 85,
   "metadata": {},
   "outputs": [
    {
     "name": "stderr",
     "output_type": "stream",
     "text": [
      "C:\\Users\\HP\\anaconda3\\lib\\site-packages\\ipykernel_launcher.py:3: RuntimeWarning: divide by zero encountered in log\n",
      "  This is separate from the ipykernel package so we can avoid doing imports until\n",
      "C:\\Users\\HP\\anaconda3\\lib\\site-packages\\ipykernel_launcher.py:3: RuntimeWarning: invalid value encountered in multiply\n",
      "  This is separate from the ipykernel package so we can avoid doing imports until\n",
      "C:\\Users\\HP\\anaconda3\\lib\\site-packages\\ipykernel_launcher.py:4: RuntimeWarning: divide by zero encountered in true_divide\n",
      "  after removing the cwd from sys.path.\n",
      "C:\\Users\\HP\\anaconda3\\lib\\site-packages\\ipykernel_launcher.py:4: RuntimeWarning: invalid value encountered in true_divide\n",
      "  after removing the cwd from sys.path.\n",
      "C:\\Users\\HP\\anaconda3\\lib\\site-packages\\ipykernel_launcher.py:4: RuntimeWarning: divide by zero encountered in log\n",
      "  after removing the cwd from sys.path.\n"
     ]
    },
    {
     "name": "stdout",
     "output_type": "stream",
     "text": [
      "cost at iteration  1 :  nan\n",
      "cost at iteration  1 :  nan\n",
      "cost at iteration  1 :  nan\n",
      "cost at iteration  1 :  nan\n",
      "cost at iteration  1 :  nan\n",
      "cost at iteration  1 :  nan\n",
      "cost at iteration  1 :  nan\n",
      "cost at iteration  1 :  nan\n",
      "cost at iteration  1 :  nan\n",
      "cost at iteration  1 :  nan\n",
      "cost at iteration  1 :  nan\n"
     ]
    }
   ],
   "source": [
    "pf = model(trainx, trainy, testx, testy, [trainx.shape[0], 3, 1], 1, 100)"
   ]
  },
  {
   "cell_type": "code",
   "execution_count": null,
   "metadata": {},
   "outputs": [],
   "source": []
  }
 ],
 "metadata": {
  "kernelspec": {
   "display_name": "Python 3",
   "language": "python",
   "name": "python3"
  },
  "language_info": {
   "codemirror_mode": {
    "name": "ipython",
    "version": 3
   },
   "file_extension": ".py",
   "mimetype": "text/x-python",
   "name": "python",
   "nbconvert_exporter": "python",
   "pygments_lexer": "ipython3",
   "version": "3.7.6"
  }
 },
 "nbformat": 4,
 "nbformat_minor": 4
}
